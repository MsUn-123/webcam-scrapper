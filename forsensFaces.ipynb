{
  "nbformat": 4,
  "nbformat_minor": 0,
  "metadata": {
    "colab": {
      "provenance": [],
      "authorship_tag": "ABX9TyOTiPrCZxAdKTKyRwqK7AqG",
      "include_colab_link": true
    },
    "kernelspec": {
      "name": "python3",
      "display_name": "Python 3"
    },
    "language_info": {
      "name": "python"
    }
  },
  "cells": [
    {
      "cell_type": "markdown",
      "metadata": {
        "id": "view-in-github",
        "colab_type": "text"
      },
      "source": [
        "<a href=\"https://colab.research.google.com/github/MsUn-123/webcam-scrapper/blob/main/forsensFaces.ipynb\" target=\"_parent\"><img src=\"https://colab.research.google.com/assets/colab-badge.svg\" alt=\"Open In Colab\"/></a>"
      ]
    },
    {
      "cell_type": "markdown",
      "source": [
        "# ***Some kind of God of War youtube frames scraper.***\n",
        "Feel free to... ![donkSmall.png](data:image/png;base64,iVBORw0KGgoAAAANSUhEUgAAABwAAAAcCAYAAAByDd+UAAAABmJLR0QA/wD/AP+gvaeTAAAFdElEQVRIx52WXYxdVRmGn2+tvc85c6ZzDjM2UoTaGdsUg0M7agLxAio2KgkmNYFyUTQavPCnkRt7Y6Qx4YbExFv0wngh6oUhMYAE4k9TMA3+hBYylNTSUqYW0tIZZs4+0/O793q92PvMnE5nbHUnK3tl5VvrXe/7/awPrvMpGQxDiUOJVZS4v6iBlCAldqhYd7lNbr/R564HmKMCkqEA0m4U9mCoWP8OaAQIuSGA/X+ASuLV/avjCQwPBIyAsR10bwHmBjfciOV1GKbDdgLuBr5YzAdrAN/fyB03DKjEgJG15o8WPEPxd8X8AeCxYv5fSWwothIPygobE2ZbUXgDY7xgNtirof8DwEtDF8lBatdhmEuRgTkwc8XRBwqwbA3YgLEDngTKq2DXHr8BfQOrAhG4qQyqMYRHCi52tSECPLnDZ8C+V5j4AflhX14jae67waVXpPku8BQiKyJ0XWGKjfPkwfXO6oW2AJewmtYBbHvohlxOPJjq0H8NsR3bMCgGYFnB9jfgvgbBgQ3l5zqb9726F0oCl3l8j0zZQYntMlKuToU1PliRNgMegXAgV0cRAYjX0XP3Cw/DjjYSPPPPSdMSaJljIUFpg7TfMKUNVkbWQGHNUEIICVLCvBJmlEB3yVtoGD/595Ck9/zxUcaiKhU7w0LP2cvzt2gk7t/2s+m/zn7jtnM3ySFz2HASiCHBhMAQZkAQwQGXU9m3ynU9/4u3puzw6WmtAE7/4SF+uOsAvz7zEi9eOGW8Maepe2ae8ZY+OFm9ku2oNv0nNzWZiLvU4z6bS10m4h5byh1iJ436FIEZCMPwhb9Fi4zdwBksvw27XtjPaFTlYnseZ84BITL/7b7Sn0tkPTnfD0YqhzfhEJETFZcxFqVE1mFyJGjr2Ai76iWrR1f0YeuUTVUuZ+936v7J85858lZn9EHSeMkAdj63j9hFAObNC7jlSto+ERRuNiMYuDxZxMALubJOSb9jD2/7sh6/82B38fJixeSFeTvS+oeWQ2J3fXRX9q93Z/2vzj93X2z+aAQwGtVJ+ouDqM2c2T6hm4FUskgrYT8cZsKZGPGetxtv8/Tcb8uzv/8bx375J+q1Gl/5+kP8+LHDOnzwB/b32ePMLZ9v9zpdTA2gCodeu4PRiOiJY59Pd07N/S4V+4FMsmsTvYCWhJnRzXpcpk91ZFSbWsHiTMR0qNc2Z6ePz/ndO24/avsn7oupYEpi0mBElR57Xv6CO9+uhnbwfy67sDeykDnk8yTLA3TwFq9JPt3fbDOxcMVOn2vyOaXqLHRtuhKy1/du9z8ar3yVSvXZsW7PRZAROeh0Il6865VPVSvpvY+/eefU85c+xlJaslbqERCZKLlAZMLbau4Hg2qW2YGFBZpLfebfS3jHYe9VS9m5bRPeZ+GoTp1+lpOYPbUnmBKXPz/YNik9YcZ4MPRht2QXOlVONMa51K1wtrWJk8s1LnZGaAdPUFHLlD/7bWeUPWwqGwj1cdYK6jf7/n5atSM31efdlnI3RCAHyoT7phnjEl1E6SPlHpsrPc1MLNkgwVt9z1y7yrutUTrB401c6lZophElEyebNRb7MYbYObrM9Fgj3b/1wt3vL5VeufXW19MPFu/A1Pws0DP05nFJM2YEKa+xGvKdK2qIOdBwvA4Hbhiq5A4kMqV4Z/wUOAQ4UxIB3A7pLCIuzr/2FRkqZ1dXbxvq1VZqpQrFgzcMWJb4NMbZKG8j7EtATP4iROu8BvlBtl5Poo3MB41Whhgz2Io4G2ECVC8MM1afoI36nRvrZVkpSTZ8UsHGusVN/f9w4I18BUvLoP4BiKjobp8uWNaAjxfGk0BpSLMAVIFPDK3ZDQAaRBdxk3MA/wGzqKCZ1IGDWwAAAABJRU5ErkJggg==)<br>Made with Python and some other donk things...\n",
        "<br>*Why I'm doing this?*"
      ],
      "metadata": {
        "id": "tABxfoaz7a_k"
      }
    },
    {
      "cell_type": "markdown",
      "source": [
        "##Preparing dependencies\n",
        "Installing this and that. Making sure that we have everything needed."
      ],
      "metadata": {
        "id": "tDtMhuFR-ncc"
      }
    },
    {
      "cell_type": "code",
      "source": [
        "!pip install youtube-dl\n",
        "!pip install ffmpeg\n",
        "!apt-get install jq"
      ],
      "metadata": {
        "id": "p1iG0q_6-uY7"
      },
      "execution_count": null,
      "outputs": []
    },
    {
      "cell_type": "markdown",
      "source": [
        "##Preparing video urls for further extraction\n",
        "Now we need to make playlist of videos we want to scrape... For that you need channels video tab URL and tweak some settings. \n",
        "This script will generate output.json file which contains duration of the video and id. We need duration to use vids with length more than 1 hour so we can take ~4 images in 40 mins of the vid. ![donkSmall.png](data:image/png;base64,iVBORw0KGgoAAAANSUhEUgAAABwAAAAcCAYAAAByDd+UAAAABmJLR0QA/wD/AP+gvaeTAAAFdElEQVRIx52WXYxdVRmGn2+tvc85c6ZzDjM2UoTaGdsUg0M7agLxAio2KgkmNYFyUTQavPCnkRt7Y6Qx4YbExFv0wngh6oUhMYAE4k9TMA3+hBYylNTSUqYW0tIZZs4+0/O793q92PvMnE5nbHUnK3tl5VvrXe/7/awPrvMpGQxDiUOJVZS4v6iBlCAldqhYd7lNbr/R564HmKMCkqEA0m4U9mCoWP8OaAQIuSGA/X+ASuLV/avjCQwPBIyAsR10bwHmBjfciOV1GKbDdgLuBr5YzAdrAN/fyB03DKjEgJG15o8WPEPxd8X8AeCxYv5fSWwothIPygobE2ZbUXgDY7xgNtirof8DwEtDF8lBatdhmEuRgTkwc8XRBwqwbA3YgLEDngTKq2DXHr8BfQOrAhG4qQyqMYRHCi52tSECPLnDZ8C+V5j4AflhX14jae67waVXpPku8BQiKyJ0XWGKjfPkwfXO6oW2AJewmtYBbHvohlxOPJjq0H8NsR3bMCgGYFnB9jfgvgbBgQ3l5zqb9726F0oCl3l8j0zZQYntMlKuToU1PliRNgMegXAgV0cRAYjX0XP3Cw/DjjYSPPPPSdMSaJljIUFpg7TfMKUNVkbWQGHNUEIICVLCvBJmlEB3yVtoGD/595Ck9/zxUcaiKhU7w0LP2cvzt2gk7t/2s+m/zn7jtnM3ySFz2HASiCHBhMAQZkAQwQGXU9m3ynU9/4u3puzw6WmtAE7/4SF+uOsAvz7zEi9eOGW8Maepe2ae8ZY+OFm9ku2oNv0nNzWZiLvU4z6bS10m4h5byh1iJ436FIEZCMPwhb9Fi4zdwBksvw27XtjPaFTlYnseZ84BITL/7b7Sn0tkPTnfD0YqhzfhEJETFZcxFqVE1mFyJGjr2Ai76iWrR1f0YeuUTVUuZ+936v7J85858lZn9EHSeMkAdj63j9hFAObNC7jlSto+ERRuNiMYuDxZxMALubJOSb9jD2/7sh6/82B38fJixeSFeTvS+oeWQ2J3fXRX9q93Z/2vzj93X2z+aAQwGtVJ+ouDqM2c2T6hm4FUskgrYT8cZsKZGPGetxtv8/Tcb8uzv/8bx375J+q1Gl/5+kP8+LHDOnzwB/b32ePMLZ9v9zpdTA2gCodeu4PRiOiJY59Pd07N/S4V+4FMsmsTvYCWhJnRzXpcpk91ZFSbWsHiTMR0qNc2Z6ePz/ndO24/avsn7oupYEpi0mBElR57Xv6CO9+uhnbwfy67sDeykDnk8yTLA3TwFq9JPt3fbDOxcMVOn2vyOaXqLHRtuhKy1/du9z8ar3yVSvXZsW7PRZAROeh0Il6865VPVSvpvY+/eefU85c+xlJaslbqERCZKLlAZMLbau4Hg2qW2YGFBZpLfebfS3jHYe9VS9m5bRPeZ+GoTp1+lpOYPbUnmBKXPz/YNik9YcZ4MPRht2QXOlVONMa51K1wtrWJk8s1LnZGaAdPUFHLlD/7bWeUPWwqGwj1cdYK6jf7/n5atSM31efdlnI3RCAHyoT7phnjEl1E6SPlHpsrPc1MLNkgwVt9z1y7yrutUTrB401c6lZophElEyebNRb7MYbYObrM9Fgj3b/1wt3vL5VeufXW19MPFu/A1Pws0DP05nFJM2YEKa+xGvKdK2qIOdBwvA4Hbhiq5A4kMqV4Z/wUOAQ4UxIB3A7pLCIuzr/2FRkqZ1dXbxvq1VZqpQrFgzcMWJb4NMbZKG8j7EtATP4iROu8BvlBtl5Poo3MB41Whhgz2Io4G2ECVC8MM1afoI36nRvrZVkpSTZ8UsHGusVN/f9w4I18BUvLoP4BiKjobp8uWNaAjxfGk0BpSLMAVIFPDK3ZDQAaRBdxk3MA/wGzqKCZ1IGDWwAAAABJRU5ErkJggg==) Variables 'start' and 'end' lets you choose specified indecies of playlist. If 'start' = 1 then you will start from the latest channel video. 'end' should be greater than 'start'. ![donkSmall.png](data:image/png;base64,iVBORw0KGgoAAAANSUhEUgAAABwAAAAcCAYAAAByDd+UAAAABmJLR0QA/wD/AP+gvaeTAAAFdElEQVRIx52WXYxdVRmGn2+tvc85c6ZzDjM2UoTaGdsUg0M7agLxAio2KgkmNYFyUTQavPCnkRt7Y6Qx4YbExFv0wngh6oUhMYAE4k9TMA3+hBYylNTSUqYW0tIZZs4+0/O793q92PvMnE5nbHUnK3tl5VvrXe/7/awPrvMpGQxDiUOJVZS4v6iBlCAldqhYd7lNbr/R564HmKMCkqEA0m4U9mCoWP8OaAQIuSGA/X+ASuLV/avjCQwPBIyAsR10bwHmBjfciOV1GKbDdgLuBr5YzAdrAN/fyB03DKjEgJG15o8WPEPxd8X8AeCxYv5fSWwothIPygobE2ZbUXgDY7xgNtirof8DwEtDF8lBatdhmEuRgTkwc8XRBwqwbA3YgLEDngTKq2DXHr8BfQOrAhG4qQyqMYRHCi52tSECPLnDZ8C+V5j4AflhX14jae67waVXpPku8BQiKyJ0XWGKjfPkwfXO6oW2AJewmtYBbHvohlxOPJjq0H8NsR3bMCgGYFnB9jfgvgbBgQ3l5zqb9726F0oCl3l8j0zZQYntMlKuToU1PliRNgMegXAgV0cRAYjX0XP3Cw/DjjYSPPPPSdMSaJljIUFpg7TfMKUNVkbWQGHNUEIICVLCvBJmlEB3yVtoGD/595Ck9/zxUcaiKhU7w0LP2cvzt2gk7t/2s+m/zn7jtnM3ySFz2HASiCHBhMAQZkAQwQGXU9m3ynU9/4u3puzw6WmtAE7/4SF+uOsAvz7zEi9eOGW8Maepe2ae8ZY+OFm9ku2oNv0nNzWZiLvU4z6bS10m4h5byh1iJ436FIEZCMPwhb9Fi4zdwBksvw27XtjPaFTlYnseZ84BITL/7b7Sn0tkPTnfD0YqhzfhEJETFZcxFqVE1mFyJGjr2Ai76iWrR1f0YeuUTVUuZ+936v7J85858lZn9EHSeMkAdj63j9hFAObNC7jlSto+ERRuNiMYuDxZxMALubJOSb9jD2/7sh6/82B38fJixeSFeTvS+oeWQ2J3fXRX9q93Z/2vzj93X2z+aAQwGtVJ+ouDqM2c2T6hm4FUskgrYT8cZsKZGPGetxtv8/Tcb8uzv/8bx375J+q1Gl/5+kP8+LHDOnzwB/b32ePMLZ9v9zpdTA2gCodeu4PRiOiJY59Pd07N/S4V+4FMsmsTvYCWhJnRzXpcpk91ZFSbWsHiTMR0qNc2Z6ePz/ndO24/avsn7oupYEpi0mBElR57Xv6CO9+uhnbwfy67sDeykDnk8yTLA3TwFq9JPt3fbDOxcMVOn2vyOaXqLHRtuhKy1/du9z8ar3yVSvXZsW7PRZAROeh0Il6865VPVSvpvY+/eefU85c+xlJaslbqERCZKLlAZMLbau4Hg2qW2YGFBZpLfebfS3jHYe9VS9m5bRPeZ+GoTp1+lpOYPbUnmBKXPz/YNik9YcZ4MPRht2QXOlVONMa51K1wtrWJk8s1LnZGaAdPUFHLlD/7bWeUPWwqGwj1cdYK6jf7/n5atSM31efdlnI3RCAHyoT7phnjEl1E6SPlHpsrPc1MLNkgwVt9z1y7yrutUTrB401c6lZophElEyebNRb7MYbYObrM9Fgj3b/1wt3vL5VeufXW19MPFu/A1Pws0DP05nFJM2YEKa+xGvKdK2qIOdBwvA4Hbhiq5A4kMqV4Z/wUOAQ4UxIB3A7pLCIuzr/2FRkqZ1dXbxvq1VZqpQrFgzcMWJb4NMbZKG8j7EtATP4iROu8BvlBtl5Poo3MB41Whhgz2Io4G2ECVC8MM1afoI36nRvrZVkpSTZ8UsHGusVN/f9w4I18BUvLoP4BiKjobp8uWNaAjxfGk0BpSLMAVIFPDK3ZDQAaRBdxk3MA/wGzqKCZ1IGDWwAAAABJRU5ErkJggg==) This thing extracted 100 vid urls in 50 seconds, results may wary.\n"
      ],
      "metadata": {
        "id": "MSe9Fw2CBQb_"
      }
    },
    {
      "cell_type": "code",
      "source": [
        "channel = 'https://www.twitch.tv/forsen/videos' #@param { type: 'string' }\n",
        "\n",
        "platform = 'tw' #@param [\"yt\", \"tw\"]\n",
        "start = 1 #@param { type: 'number' }\n",
        "end = 100 #@param { type: 'number' }\n",
        "\n",
        "!youtube-dl --dump-json --playlist-items {start}-{end} {channel} | jq -r '[.duration,.id]|@csv' > output.json"
      ],
      "metadata": {
        "id": "3SWXuYyACvaV"
      },
      "execution_count": 16,
      "outputs": []
    },
    {
      "cell_type": "markdown",
      "source": [
        "We got a list of forsens twitch vids. Here you can see a number before id which means duration of vid in seconds. They are all more than 20000 secs (~5 hours) so we can get, for example 5-10 images per stream so we will get ~450-500 images of forsen in total."
      ],
      "metadata": {
        "id": "iGtEU_4LwTKm"
      }
    },
    {
      "cell_type": "code",
      "source": [
        "if 'twitch' in channel: url = 'https://www.twitch.tv/videos/'\n",
        "if 'youtube' in channel: url = 'https://www.youtube.com/watch/'\n",
        "\n",
        "vidStream = !youtube-dl -g 'https://www.twitch.tv/videos/1700845614'\n",
        "vidStream = vidStream[0]"
      ],
      "metadata": {
        "id": "McPWuvzZK3K3"
      },
      "execution_count": null,
      "outputs": []
    },
    {
      "cell_type": "markdown",
      "source": [
        "Downloading a vid and shit\n"
      ],
      "metadata": {
        "id": "K3ZJQkZYJ6AS"
      }
    }
  ]
}